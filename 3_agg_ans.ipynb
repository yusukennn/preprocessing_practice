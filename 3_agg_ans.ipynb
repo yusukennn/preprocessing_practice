{
 "cells": [
  {
   "cell_type": "code",
   "execution_count": 1,
   "metadata": {},
   "outputs": [],
   "source": [
    "import pandas as pd\n",
    "\n",
    "# データの読み込み\n",
    "reserve_tb = pd.read_csv('data/reserve.csv', encoding='UTF-8')"
   ]
  },
  {
   "cell_type": "markdown",
   "metadata": {},
   "source": [
    "# 第３章　集約\n",
    "## 3-1 データ数，種類数の算出\n",
    "最も基本的な集約処理として，データ数のカウントがあります．これは，対象となるデータのレコード数（行数）をカウントする処理です．この他にもよく利用するカウント処理として，データのユニークカウントがあります．ユニークカウントとは，対象となるデータから同じ値のレコードを排除した後にレコード数をカウントする処理です．つまり，データの値の種類をカウントします．"
   ]
  },
  {
   "cell_type": "markdown",
   "metadata": {},
   "source": [
    "### Q:カウントとユニークカウント\n",
    "対象のデータセットは，ホテルの予約レコードです．\\\n",
    "予約テーブルから，ホテルごとに予約件数と予約したことがある顧客数を算出しましょう．\\\n",
    "\\\n",
    "ヒント：agg関数で集約処理をまとめて指定するやりやすい"
   ]
  },
  {
   "cell_type": "code",
   "execution_count": 2,
   "metadata": {},
   "outputs": [],
   "source": [
    "# agg関数を利用して、集約処理をまとめて指定\n",
    "# reserve_idを対象にcount関数を適用\n",
    "# customer_idを対象にnunique関数を適用\n",
    "result = reserve_tb \\\n",
    "  .groupby('hotel_id') \\\n",
    "  .agg({'reserve_id': 'count', 'customer_id': 'nunique'})\n",
    "\n",
    "# reset_index関数によって、列番号を振り直す（inplace=Trueなので、直接resultを更新）\n",
    "result.reset_index(inplace=True)\n",
    "result.columns = ['hotel_id', 'rsv_cnt', 'cus_cnt']\n"
   ]
  },
  {
   "cell_type": "markdown",
   "metadata": {},
   "source": [
    "## 3-2　合計値の算出\n",
    "### 合計値\n",
    "対象のデータセットはホテルの予約レコードです．\\\n",
    "予約テーブルから，ホテルごとの宿泊人数別の合計予約金額を算出しましょう．"
   ]
  },
  {
   "cell_type": "code",
   "execution_count": 4,
   "metadata": {},
   "outputs": [],
   "source": [
    "# 集約単位をhotel_idとpeople_numの組み合わせを指定\n",
    "# 集約したデータからtotal_priceを取り出し、sum関数に適用することで売上合計金額を算出\n",
    "result = reserve_tb \\\n",
    "  .groupby(['hotel_id', 'people_num'])['total_price'] \\\n",
    "  .sum().reset_index()\n",
    "\n",
    "# 売上合計金額の列名がtotal_priceになっているので、price_sumに変更\n",
    "result.rename(columns={'total_price': 'price_sum'}, inplace=True)"
   ]
  },
  {
   "cell_type": "code",
   "execution_count": null,
   "metadata": {},
   "outputs": [],
   "source": []
  }
 ],
 "metadata": {
  "kernelspec": {
   "display_name": "Python 3",
   "language": "python",
   "name": "python3"
  },
  "language_info": {
   "codemirror_mode": {
    "name": "ipython",
    "version": 3
   },
   "file_extension": ".py",
   "mimetype": "text/x-python",
   "name": "python",
   "nbconvert_exporter": "python",
   "pygments_lexer": "ipython3",
   "version": "3.8.5"
  }
 },
 "nbformat": 4,
 "nbformat_minor": 4
}
