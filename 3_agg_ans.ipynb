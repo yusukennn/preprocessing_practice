{
 "cells": [
  {
   "cell_type": "code",
   "execution_count": 1,
   "metadata": {},
   "outputs": [],
   "source": [
    "import pandas as pd\n",
    "\n",
    "# データの読み込み\n",
    "reserve_tb = pd.read_csv('data/reserve.csv', encoding='UTF-8')"
   ]
  },
  {
   "cell_type": "markdown",
   "metadata": {},
   "source": [
    "# 第３章　集約\n",
    "## 3-1 データ数，種類数の算出\n",
    "最も基本的な集約処理として，データ数のカウントがあります．これは，対象となるデータのレコード数（行数）をカウントする処理です．この他にもよく利用するカウント処理として，データのユニークカウントがあります．ユニークカウントとは，対象となるデータから同じ値のレコードを排除した後にレコード数をカウントする処理です．つまり，データの値の種類をカウントします．"
   ]
  },
  {
   "cell_type": "markdown",
   "metadata": {},
   "source": [
    "### Q:カウントとユニークカウント\n",
    "対象のデータセットは，ホテルの予約レコードです．\\\n",
    "予約テーブルから，ホテルごとに予約件数と予約したことがある顧客数を算出しましょう．\\\n",
    "\\\n",
    "ヒント：agg関数で集約処理をまとめて指定するやりやすいです"
   ]
  },
  {
   "cell_type": "code",
   "execution_count": 8,
   "metadata": {},
   "outputs": [],
   "source": [
    "# agg関数を利用して、集約処理をまとめて指定\n",
    "# reserve_idを対象にcount関数を適用\n",
    "# customer_idを対象にnunique関数を適用\n",
    "result_1 = reserve_tb \\\n",
    "  .groupby('hotel_id') \\\n",
    "  .agg({'reserve_id': 'count', 'customer_id': 'nunique'})\n",
    "\n",
    "# reset_index関数によって、列番号を振り直す（inplace=Trueなので、直接resultを更新）\n",
    "result_1.reset_index(inplace=True)\n",
    "result_1.columns = ['hotel_id', 'rsv_cnt', 'cus_cnt']\n"
   ]
  },
  {
   "cell_type": "markdown",
   "metadata": {},
   "source": [
    "## 3-2　合計値の算出\n",
    "### Q:合計値\n",
    "対象のデータセットはホテルの予約レコードです．\\\n",
    "予約テーブルから，ホテルごとの宿泊人数別の合計予約金額を算出しましょう．"
   ]
  },
  {
   "cell_type": "code",
   "execution_count": 4,
   "metadata": {},
   "outputs": [],
   "source": [
    "# 集約単位をhotel_idとpeople_numの組み合わせを指定\n",
    "# 集約したデータからtotal_priceを取り出し、sum関数に適用することで売上合計金額を算出\n",
    "result_2 = reserve_tb \\\n",
    "  .groupby(['hotel_id', 'people_num'])['total_price'] \\\n",
    "  .sum().reset_index()\n",
    "\n",
    "# 売上合計金額の列名がtotal_priceになっているので、price_sumに変更\n",
    "result_2.rename(columns={'total_price': 'price_sum'}, inplace=True)"
   ]
  },
  {
   "cell_type": "markdown",
   "metadata": {},
   "source": [
    "## 3-3 極値，代表値の算出\n",
    "### Q:代表値\n",
    "対象のデータセットはホテルの予約レコードです．\n",
    "予約テーブルから，ホテルごとの予約金額の最大値，最小値，平均値，中央値，20パーセンタイル値を算出しましょう．"
   ]
  },
  {
   "cell_type": "code",
   "execution_count": 9,
   "metadata": {},
   "outputs": [],
   "source": [
    "# total_priceを対象にmax/min/mean/median関数を適用\n",
    "# Pythonのラムダ式をagg関数の集約処理に指定\n",
    "# ラムダ式にはnumpy.percentileを指定しパーセントタイル値を算出（パーセントは20指定）\n",
    "import numpy as np\n",
    "\n",
    "result_3 = reserve_tb \\\n",
    "  .groupby('hotel_id') \\\n",
    "  .agg({'total_price': ['max', 'min', 'mean', 'median',\n",
    "                        lambda x: np.percentile(x, q=20)]}) \\\n",
    "  .reset_index()\n",
    "result_3.columns = ['hotel_id', 'price_max', 'price_min', 'price_mean',\n",
    "                  'price_median', 'price_20per']"
   ]
  },
  {
   "cell_type": "markdown",
   "metadata": {},
   "source": [
    "## 3-4 ばらつき具合の算出\n",
    "### Q:分散値と標準偏差\n",
    "対象のデータセットはホテルの予約レコードです．\\\n",
    "予約テーブルから，各ホテルの予約金額の分散値と標準偏差値を算出しましょう．\\\n",
    "ただし，予約が１件しかない場合は，分散値と標準偏差値を０としましょう．"
   ]
  },
  {
   "cell_type": "code",
   "execution_count": 10,
   "metadata": {},
   "outputs": [],
   "source": [
    "# total_priceに対して、var関数とstd関数を適用し、分散値と標準偏差値を算出\n",
    "result_4 = reserve_tb \\\n",
    "  .groupby('hotel_id') \\\n",
    "  .agg({'total_price': ['var', 'std']}).reset_index()\n",
    "result_4.columns = ['hotel_id', 'price_var', 'price_std']\n",
    "\n",
    "# データ数が1件だったときは、分散値と標準偏差値がnaになっているので、0に置き換え\n",
    "result_4.fillna(0, inplace=True)\n"
   ]
  },
  {
   "cell_type": "markdown",
   "metadata": {},
   "source": [
    "## 3-5 最頻値の算出\n",
    "最頻値は最も多く出現しているあたいのことです．\\\n",
    "数値でも，カテゴリ値に変換することによって最頻値を利用できます．\\\n",
    "例えば，数値を四捨五入で整数かしたり，100ごとのレンジで値をカテゴリ化して，最頻値を利用します．\n",
    "### Q:最頻値\n",
    "対象のデータセットは，ホテルの予約レコードです．予約テーブルの予約金額を1000単位にカテゴリ化して最頻値を算出しましょう．"
   ]
  },
  {
   "cell_type": "code",
   "execution_count": 11,
   "metadata": {},
   "outputs": [
    {
     "data": {
      "text/plain": [
       "0    10000\n",
       "1    20000\n",
       "2    40000\n",
       "dtype: int64"
      ]
     },
     "execution_count": 11,
     "metadata": {},
     "output_type": "execute_result"
    }
   ],
   "source": [
    "# round関数で四捨五入した後に、mode関数で最頻値を算出\n",
    "reserve_tb['total_price'].round(-3).mode()"
   ]
  },
  {
   "cell_type": "markdown",
   "metadata": {},
   "source": [
    "## 3-6 順位の算出\n",
    "対象データを絞る際に順位を利用したり，複雑な時系列の結合をする際に時間順に順位づけし，結合条件に利用することもできます．\\\n",
    "順位づけする際には，計算こづとに注意する必要があります．順位づけには並び替えを実地する必要があり，データ数が多いと計算コストが跳ね上がってしまうからです．\\\n",
    "順位付けをする計算は，Window関数を利用すると柑橘かつ計算パフォーマンスよくかけます．Window関数は集約関数の１つですが，通常の集約関数とは違う点があります．それは，行を集約せず，集約した値を計算してから各行に付与するという点です．\n",
    "### Q:時系列に番号を付与\n",
    "対象のデータセットは，ホテルの予約レコードです．\\\n",
    "予約テーブルを利用して，顧客ごとに予約日時の順位を古い順につけましょう．\\\n",
    "同じ予約日時の場合は，データ行の読み込み順に小さな順位をつけましょう．\n"
   ]
  },
  {
   "cell_type": "code",
   "execution_count": 12,
   "metadata": {},
   "outputs": [],
   "source": [
    "# rank関数で並び替えるために、データ型を文字列からtimestamp型に変換\n",
    "# （「第10章 日時型」で解説）\n",
    "reserve_tb['reserve_datetime'] = pd.to_datetime(\n",
    "  reserve_tb['reserve_datetime'], format='%Y-%m-%d %H:%M:%S'\n",
    ")\n",
    "\n",
    "# log_noを新たな列として追加\n",
    "# 集約単位の指定はgroup_byを利用\n",
    "# 顧客ごとにまとめたreserve_datetimeを生成し、rank関数によって順位を生成\n",
    "# ascendingをTrueにすることで昇順に設定(Falseだと降順に設定)\n",
    "reserve_tb['log_no'] = reserve_tb \\\n",
    "  .groupby('customer_id')['reserve_datetime'] \\\n",
    "  .rank(ascending=True, method='first')"
   ]
  },
  {
   "cell_type": "markdown",
   "metadata": {},
   "source": [
    "### Q:ランキング\n",
    "対象のデータセットは，ホテルの予約レコードです．\\\n",
    "予約テーブルを利用して，ホテルごとの予約数に順位付けしましょう．\\\n",
    "同じ予約数の場合は，同予約数の全ホテルに最小の順位をつけましょう"
   ]
  },
  {
   "cell_type": "code",
   "execution_count": 13,
   "metadata": {},
   "outputs": [],
   "source": [
    "# 予約回数を計算(「3-1 データ数、種類数の算出」の例題を参照)\n",
    "rsv_cnt_tb = reserve_tb.groupby('hotel_id').size().reset_index()\n",
    "rsv_cnt_tb.columns = ['hotel_id', 'rsv_cnt']\n",
    "\n",
    "# 予約回数をもとに順位を計算\n",
    "# ascendingをFalseにすることで降順に指定\n",
    "# methodをminに指定し、同じ値の場合は取り得る最小順位に指定\n",
    "rsv_cnt_tb['rsv_cnt_rank'] = rsv_cnt_tb['rsv_cnt'] \\\n",
    "  .rank(ascending=False, method='min')\n",
    "\n",
    "# 必要のないrsv_cntの列を削除\n",
    "rsv_cnt_tb.drop('rsv_cnt', axis=1, inplace=True)"
   ]
  },
  {
   "cell_type": "code",
   "execution_count": null,
   "metadata": {},
   "outputs": [],
   "source": []
  }
 ],
 "metadata": {
  "kernelspec": {
   "display_name": "Python 3",
   "language": "python",
   "name": "python3"
  },
  "language_info": {
   "codemirror_mode": {
    "name": "ipython",
    "version": 3
   },
   "file_extension": ".py",
   "mimetype": "text/x-python",
   "name": "python",
   "nbconvert_exporter": "python",
   "pygments_lexer": "ipython3",
   "version": "3.8.5"
  }
 },
 "nbformat": 4,
 "nbformat_minor": 4
}
